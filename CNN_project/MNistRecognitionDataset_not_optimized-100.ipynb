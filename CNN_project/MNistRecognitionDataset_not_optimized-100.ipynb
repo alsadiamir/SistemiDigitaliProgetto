{
 "cells": [
  {
   "cell_type": "code",
   "execution_count": 1,
   "metadata": {},
   "outputs": [],
   "source": [
    "# Set up simple CNN for MNIST hand-written digits image recognition\n",
    "#import the necessary libraries \n",
    "%matplotlib inline\n",
    "\n",
    "import tensorflow as tf \n",
    "import matplotlib.pyplot as plt\n",
    "import tensorflow.keras.backend as K\n",
    "import numpy as np"
   ]
  },
  {
   "cell_type": "code",
   "execution_count": 2,
   "metadata": {},
   "outputs": [],
   "source": [
    "mnist = tf.keras.datasets.mnist"
   ]
  },
  {
   "cell_type": "code",
   "execution_count": 3,
   "metadata": {},
   "outputs": [
    {
     "name": "stdout",
     "output_type": "stream",
     "text": [
      "7\n"
     ]
    },
    {
     "data": {
      "text/plain": [
       "<matplotlib.image.AxesImage at 0x7f8926b2e280>"
      ]
     },
     "execution_count": 3,
     "metadata": {},
     "output_type": "execute_result"
    },
    {
     "data": {
      "image/png": "[encoded data removed]",
      "text/plain": [
       "<Figure size 432x288 with 1 Axes>"
      ]
     },
     "metadata": {
      "needs_background": "light"
     },
     "output_type": "display_data"
    }
   ],
   "source": [
    "(x_train, y_train),(x_test, y_test) = mnist.load_data()\n",
    "\n",
    "image_index = 258 # You may select anything up to 60,000\n",
    "print(y_train[image_index]) # The label \n",
    "plt.imshow(x_train[image_index], cmap='Greys')"
   ]
  },
  {
   "cell_type": "code",
   "execution_count": 4,
   "metadata": {},
   "outputs": [
    {
     "data": {
      "text/plain": [
       "(60000, 28, 28)"
      ]
     },
     "execution_count": 4,
     "metadata": {},
     "output_type": "execute_result"
    }
   ],
   "source": [
    "#check the shape of the imput elements\n",
    "\n",
    "x_train.shape"
   ]
  },
  {
   "cell_type": "code",
   "execution_count": 5,
   "metadata": {},
   "outputs": [
    {
     "name": "stdout",
     "output_type": "stream",
     "text": [
      "x_train shape: (60000, 28, 28, 1)\n",
      "Number of images in x_train 60000\n",
      "Number of images in x_test 10000\n"
     ]
    }
   ],
   "source": [
    "# Reshaping the array to 4-dims so that it can work with the Keras API\n",
    "x_train = x_train.reshape(x_train.shape[0], 28, 28, 1)\n",
    "x_test = x_test.reshape(x_test.shape[0], 28, 28, 1)\n",
    "input_shape = (28, 28, 1)\n",
    "# Making sure that the values are float so that we can get decimal points after division\n",
    "x_train = x_train.astype('float32')\n",
    "x_test = x_test.astype('float32')\n",
    "# Normalizing the RGB codes by dividing it to the max RGB value.\n",
    "x_train /= 255\n",
    "x_test /= 255\n",
    "print('x_train shape:', x_train.shape)\n",
    "print('Number of images in x_train', x_train.shape[0])\n",
    "print('Number of images in x_test', x_test.shape[0])"
   ]
  },
  {
   "cell_type": "code",
   "execution_count": 6,
   "metadata": {},
   "outputs": [],
   "source": [
    "\n",
    "# Importing the required Keras modules containing model and layers\n",
    "from tensorflow.keras.models import Sequential\n",
    "from tensorflow.keras.layers import Dense, Conv2D, Dropout, Flatten, MaxPooling2D"
   ]
  },
  {
   "cell_type": "code",
   "execution_count": 7,
   "metadata": {},
   "outputs": [],
   "source": [
    "# Creating a Sequential Model and adding the layers\n",
    "#layerconv = Conv2D(28, kernel_size=(3,3), input_shape=input_shape)\n",
    "#print(layerconv.kernel)\n",
    "#print(layerconv.kernel_initializer.seed)\n",
    "#print(\"*******\")\n",
    "#layerconv = Dropout(0.2)\n",
    "#print(layerconv.strides)\n",
    "#print(layerconv.kernel_initializer)\n",
    "\n",
    "\n",
    "model = Sequential()\n",
    "model.add(Conv2D(28, kernel_size=(3,3), input_shape=input_shape))\n",
    "model.add(Flatten()) # Flattening the 2D arrays for fully connected layers\n",
    "model.add(Dense(128, activation=tf.nn.relu))\n",
    "model.add(Dropout(0.2))\n",
    "model.add(Dense(10,activation=tf.nn.softmax))"
   ]
  },
  {
   "cell_type": "code",
   "execution_count": 8,
   "metadata": {},
   "outputs": [
    {
     "name": "stdout",
     "output_type": "stream",
     "text": [
      "Epoch 1/100\n",
      "1875/1875 [==============================] - 34s 18ms/step - loss: 0.3726 - accuracy: 0.8840\n",
      "Epoch 2/100\n",
      "1875/1875 [==============================] - 34s 18ms/step - loss: 0.1354 - accuracy: 0.9586\n",
      "Epoch 3/100\n",
      "1875/1875 [==============================] - 34s 18ms/step - loss: 0.0988 - accuracy: 0.9687\n",
      "Epoch 4/100\n",
      "1875/1875 [==============================] - 34s 18ms/step - loss: 0.0798 - accuracy: 0.9750\n",
      "Epoch 5/100\n",
      "1875/1875 [==============================] - 34s 18ms/step - loss: 0.0696 - accuracy: 0.9780\n",
      "Epoch 6/100\n",
      "1875/1875 [==============================] - 35s 18ms/step - loss: 0.0585 - accuracy: 0.9806\n",
      "Epoch 7/100\n",
      "1875/1875 [==============================] - 35s 18ms/step - loss: 0.0551 - accuracy: 0.9819\n",
      "Epoch 8/100\n",
      "1875/1875 [==============================] - 35s 18ms/step - loss: 0.0480 - accuracy: 0.9841\n",
      "Epoch 9/100\n",
      "1875/1875 [==============================] - 34s 18ms/step - loss: 0.0426 - accuracy: 0.9856\n",
      "Epoch 10/100\n",
      "1875/1875 [==============================] - 35s 18ms/step - loss: 0.0417 - accuracy: 0.9866\n",
      "Epoch 11/100\n",
      "1875/1875 [==============================] - 35s 18ms/step - loss: 0.0397 - accuracy: 0.9867\n",
      "Epoch 12/100\n",
      "1875/1875 [==============================] - 35s 18ms/step - loss: 0.0370 - accuracy: 0.9869\n",
      "Epoch 13/100\n",
      "1875/1875 [==============================] - 35s 19ms/step - loss: 0.0362 - accuracy: 0.9888\n",
      "Epoch 14/100\n",
      "1875/1875 [==============================] - 35s 19ms/step - loss: 0.0331 - accuracy: 0.9892\n",
      "Epoch 15/100\n",
      "1875/1875 [==============================] - 35s 19ms/step - loss: 0.0341 - accuracy: 0.9887\n",
      "Epoch 16/100\n",
      "1875/1875 [==============================] - 35s 19ms/step - loss: 0.0286 - accuracy: 0.9903\n",
      "Epoch 17/100\n",
      "1875/1875 [==============================] - 35s 19ms/step - loss: 0.0311 - accuracy: 0.9898\n",
      "Epoch 18/100\n",
      "1875/1875 [==============================] - 35s 19ms/step - loss: 0.0316 - accuracy: 0.9903\n",
      "Epoch 19/100\n",
      "1875/1875 [==============================] - 35s 19ms/step - loss: 0.0307 - accuracy: 0.9898\n",
      "Epoch 20/100\n",
      "1875/1875 [==============================] - 35s 19ms/step - loss: 0.0295 - accuracy: 0.9908\n",
      "Epoch 21/100\n",
      "1875/1875 [==============================] - 35s 19ms/step - loss: 0.0274 - accuracy: 0.9914\n",
      "Epoch 22/100\n",
      "1875/1875 [==============================] - 35s 19ms/step - loss: 0.0297 - accuracy: 0.9904\n",
      "Epoch 23/100\n",
      "1875/1875 [==============================] - 35s 19ms/step - loss: 0.0265 - accuracy: 0.9920\n",
      "Epoch 24/100\n",
      "1875/1875 [==============================] - 35s 19ms/step - loss: 0.0275 - accuracy: 0.9918\n",
      "Epoch 25/100\n",
      "1875/1875 [==============================] - 35s 19ms/step - loss: 0.0236 - accuracy: 0.9923\n",
      "Epoch 26/100\n",
      "1875/1875 [==============================] - 35s 19ms/step - loss: 0.0257 - accuracy: 0.9916\n",
      "Epoch 27/100\n",
      "1875/1875 [==============================] - 35s 19ms/step - loss: 0.0231 - accuracy: 0.9922\n",
      "Epoch 28/100\n",
      "1875/1875 [==============================] - 35s 19ms/step - loss: 0.0260 - accuracy: 0.9914\n",
      "Epoch 29/100\n",
      "1875/1875 [==============================] - 35s 19ms/step - loss: 0.0239 - accuracy: 0.9922\n",
      "Epoch 30/100\n",
      "1875/1875 [==============================] - 35s 19ms/step - loss: 0.0235 - accuracy: 0.9926\n",
      "Epoch 31/100\n",
      "1875/1875 [==============================] - 35s 19ms/step - loss: 0.0216 - accuracy: 0.9936\n",
      "Epoch 32/100\n",
      "1875/1875 [==============================] - 35s 19ms/step - loss: 0.0251 - accuracy: 0.9917\n",
      "Epoch 33/100\n",
      "1875/1875 [==============================] - 35s 19ms/step - loss: 0.0250 - accuracy: 0.9927\n",
      "Epoch 34/100\n",
      "1875/1875 [==============================] - 35s 19ms/step - loss: 0.0236 - accuracy: 0.9927\n",
      "Epoch 35/100\n",
      "1875/1875 [==============================] - 35s 19ms/step - loss: 0.0220 - accuracy: 0.9932\n",
      "Epoch 36/100\n",
      "1875/1875 [==============================] - 35s 19ms/step - loss: 0.0217 - accuracy: 0.9930\n",
      "Epoch 37/100\n",
      "1875/1875 [==============================] - 35s 19ms/step - loss: 0.0214 - accuracy: 0.9933\n",
      "Epoch 38/100\n",
      "1875/1875 [==============================] - 35s 19ms/step - loss: 0.0238 - accuracy: 0.9929\n",
      "Epoch 39/100\n",
      "1875/1875 [==============================] - 35s 19ms/step - loss: 0.0234 - accuracy: 0.9928\n",
      "Epoch 40/100\n",
      "1875/1875 [==============================] - 35s 19ms/step - loss: 0.0200 - accuracy: 0.9939\n",
      "Epoch 41/100\n",
      "1875/1875 [==============================] - 35s 19ms/step - loss: 0.0254 - accuracy: 0.9931\n",
      "Epoch 42/100\n",
      "1875/1875 [==============================] - 35s 19ms/step - loss: 0.0231 - accuracy: 0.9931\n",
      "Epoch 43/100\n",
      "1875/1875 [==============================] - 35s 19ms/step - loss: 0.0192 - accuracy: 0.9943\n",
      "Epoch 44/100\n",
      "1875/1875 [==============================] - 35s 19ms/step - loss: 0.0227 - accuracy: 0.9929\n",
      "Epoch 45/100\n",
      "1875/1875 [==============================] - 35s 19ms/step - loss: 0.0215 - accuracy: 0.9935\n",
      "Epoch 46/100\n",
      "1875/1875 [==============================] - 35s 19ms/step - loss: 0.0310 - accuracy: 0.9929\n",
      "Epoch 47/100\n",
      "1875/1875 [==============================] - 35s 19ms/step - loss: 0.0229 - accuracy: 0.9933\n",
      "Epoch 48/100\n",
      "1875/1875 [==============================] - 35s 19ms/step - loss: 0.0234 - accuracy: 0.9938\n",
      "Epoch 49/100\n",
      "1875/1875 [==============================] - 35s 19ms/step - loss: 0.0209 - accuracy: 0.9939\n",
      "Epoch 50/100\n",
      "1875/1875 [==============================] - 35s 19ms/step - loss: 0.0219 - accuracy: 0.9941\n",
      "Epoch 51/100\n",
      "1875/1875 [==============================] - 35s 19ms/step - loss: 0.0168 - accuracy: 0.9943\n",
      "Epoch 52/100\n",
      "1875/1875 [==============================] - 35s 19ms/step - loss: 0.0206 - accuracy: 0.9943\n",
      "Epoch 53/100\n",
      "1875/1875 [==============================] - 35s 19ms/step - loss: 0.0206 - accuracy: 0.9940\n",
      "Epoch 54/100\n",
      "1875/1875 [==============================] - 35s 19ms/step - loss: 0.0210 - accuracy: 0.9943\n",
      "Epoch 55/100\n",
      "1875/1875 [==============================] - 35s 19ms/step - loss: 0.0212 - accuracy: 0.9941\n",
      "Epoch 56/100\n",
      "1875/1875 [==============================] - 35s 19ms/step - loss: 0.0192 - accuracy: 0.9945\n",
      "Epoch 57/100\n",
      "1875/1875 [==============================] - 35s 19ms/step - loss: 0.0208 - accuracy: 0.9940\n",
      "Epoch 58/100\n",
      "1875/1875 [==============================] - 35s 19ms/step - loss: 0.0250 - accuracy: 0.9933\n",
      "Epoch 59/100\n",
      "1875/1875 [==============================] - 35s 19ms/step - loss: 0.0209 - accuracy: 0.9945\n",
      "Epoch 60/100\n",
      "1875/1875 [==============================] - 35s 19ms/step - loss: 0.0221 - accuracy: 0.9937\n",
      "Epoch 61/100\n",
      "1875/1875 [==============================] - 35s 19ms/step - loss: 0.0211 - accuracy: 0.9942\n",
      "Epoch 62/100\n",
      "1875/1875 [==============================] - 35s 19ms/step - loss: 0.0215 - accuracy: 0.9942\n",
      "Epoch 63/100\n",
      "1875/1875 [==============================] - 35s 19ms/step - loss: 0.0202 - accuracy: 0.9944\n",
      "Epoch 64/100\n",
      "1875/1875 [==============================] - 35s 19ms/step - loss: 0.0199 - accuracy: 0.9951\n",
      "Epoch 65/100\n",
      "1875/1875 [==============================] - 35s 19ms/step - loss: 0.0226 - accuracy: 0.9942\n",
      "Epoch 66/100\n",
      "1875/1875 [==============================] - 35s 19ms/step - loss: 0.0221 - accuracy: 0.9938\n",
      "Epoch 67/100\n",
      "1875/1875 [==============================] - 35s 19ms/step - loss: 0.0201 - accuracy: 0.9944\n",
      "Epoch 68/100\n",
      "1875/1875 [==============================] - 35s 19ms/step - loss: 0.0201 - accuracy: 0.9947\n",
      "Epoch 69/100\n",
      "1875/1875 [==============================] - 35s 19ms/step - loss: 0.0211 - accuracy: 0.9952\n",
      "Epoch 70/100\n",
      "1875/1875 [==============================] - 35s 19ms/step - loss: 0.0187 - accuracy: 0.9952\n",
      "Epoch 71/100\n",
      "1875/1875 [==============================] - 35s 19ms/step - loss: 0.0180 - accuracy: 0.9951\n",
      "Epoch 72/100\n",
      "1875/1875 [==============================] - 35s 19ms/step - loss: 0.0244 - accuracy: 0.9936\n",
      "Epoch 73/100\n",
      "1875/1875 [==============================] - 35s 19ms/step - loss: 0.0146 - accuracy: 0.9963\n",
      "Epoch 74/100\n",
      "1875/1875 [==============================] - 35s 19ms/step - loss: 0.0187 - accuracy: 0.9952\n",
      "Epoch 75/100\n",
      "1875/1875 [==============================] - 35s 19ms/step - loss: 0.0222 - accuracy: 0.9942\n",
      "Epoch 76/100\n",
      "1875/1875 [==============================] - 35s 19ms/step - loss: 0.0245 - accuracy: 0.9942\n",
      "Epoch 77/100\n",
      "1875/1875 [==============================] - 35s 19ms/step - loss: 0.0194 - accuracy: 0.9947\n",
      "Epoch 78/100\n"
     ]
    },
    {
     "name": "stdout",
     "output_type": "stream",
     "text": [
      "1875/1875 [==============================] - 34s 18ms/step - loss: 0.0162 - accuracy: 0.9958\n",
      "Epoch 79/100\n",
      "1875/1875 [==============================] - 34s 18ms/step - loss: 0.0191 - accuracy: 0.9947\n",
      "Epoch 80/100\n",
      "1875/1875 [==============================] - 34s 18ms/step - loss: 0.0166 - accuracy: 0.9956\n",
      "Epoch 81/100\n",
      "1875/1875 [==============================] - 34s 18ms/step - loss: 0.0200 - accuracy: 0.9945\n",
      "Epoch 82/100\n",
      "1875/1875 [==============================] - 34s 18ms/step - loss: 0.0232 - accuracy: 0.9948\n",
      "Epoch 83/100\n",
      "1875/1875 [==============================] - 34s 18ms/step - loss: 0.0220 - accuracy: 0.9946\n",
      "Epoch 84/100\n",
      "1875/1875 [==============================] - 34s 18ms/step - loss: 0.0195 - accuracy: 0.9951\n",
      "Epoch 85/100\n",
      "1875/1875 [==============================] - 34s 18ms/step - loss: 0.0205 - accuracy: 0.9947\n",
      "Epoch 86/100\n",
      "1875/1875 [==============================] - 34s 18ms/step - loss: 0.0201 - accuracy: 0.9950\n",
      "Epoch 87/100\n",
      "1875/1875 [==============================] - 34s 18ms/step - loss: 0.0232 - accuracy: 0.9953\n",
      "Epoch 88/100\n",
      "1875/1875 [==============================] - 34s 18ms/step - loss: 0.0213 - accuracy: 0.9953\n",
      "Epoch 89/100\n",
      "1875/1875 [==============================] - 34s 18ms/step - loss: 0.0179 - accuracy: 0.9954\n",
      "Epoch 90/100\n",
      "1875/1875 [==============================] - 34s 18ms/step - loss: 0.0163 - accuracy: 0.9958\n",
      "Epoch 91/100\n",
      "1875/1875 [==============================] - 34s 18ms/step - loss: 0.0184 - accuracy: 0.9954\n",
      "Epoch 92/100\n",
      "1875/1875 [==============================] - 34s 18ms/step - loss: 0.0230 - accuracy: 0.9945\n",
      "Epoch 93/100\n",
      "1875/1875 [==============================] - 34s 18ms/step - loss: 0.0190 - accuracy: 0.9956\n",
      "Epoch 94/100\n",
      "1875/1875 [==============================] - 34s 18ms/step - loss: 0.0192 - accuracy: 0.9957\n",
      "Epoch 95/100\n",
      "1875/1875 [==============================] - 34s 18ms/step - loss: 0.0188 - accuracy: 0.9957\n",
      "Epoch 96/100\n",
      "1875/1875 [==============================] - 34s 18ms/step - loss: 0.0241 - accuracy: 0.9948\n",
      "Epoch 97/100\n",
      "1875/1875 [==============================] - 34s 18ms/step - loss: 0.0198 - accuracy: 0.9952\n",
      "Epoch 98/100\n",
      "1875/1875 [==============================] - 34s 18ms/step - loss: 0.0173 - accuracy: 0.9954\n",
      "Epoch 99/100\n",
      "1875/1875 [==============================] - 34s 18ms/step - loss: 0.0185 - accuracy: 0.9954\n",
      "Epoch 100/100\n",
      "1875/1875 [==============================] - 34s 18ms/step - loss: 0.0239 - accuracy: 0.9946\n"
     ]
    },
    {
     "data": {
      "text/plain": [
       "<tensorflow.python.keras.callbacks.History at 0x7f88f0031880>"
      ]
     },
     "execution_count": 8,
     "metadata": {},
     "output_type": "execute_result"
    }
   ],
   "source": [
    "model.compile(optimizer='adam', \n",
    "              loss='sparse_categorical_crossentropy', \n",
    "              metrics=['accuracy'])\n",
    "\n",
    "model.fit(x=x_train,y=y_train, epochs=100)"
   ]
  },
  {
   "cell_type": "code",
   "execution_count": 9,
   "metadata": {},
   "outputs": [
    {
     "name": "stdout",
     "output_type": "stream",
     "text": [
      "[ 0.03605749  0.02673386  0.09576613  0.03316665  0.02306511  0.04541779\n",
      "  0.07123407  0.13621314  0.1831839  -0.03319888  0.12234488  0.02825435\n",
      " -0.10022432 -0.03212563 -0.08069938  0.03122469 -0.41679722  0.06686698\n",
      "  0.28170347 -0.2552995  -0.12982427 -0.15488222  0.05613678  0.1130937\n",
      "  0.11945851 -0.13711914  0.09254491 -0.05161443]\n"
     ]
    }
   ],
   "source": [
    "#Code to get the output of network layers\n",
    "\n",
    "inp = model.input                                           # input placeholder\n",
    "outputs = [layer.output for layer in model.layers]          # all layer outputs\n",
    "functors = [K.function([inp], [out]) for out in outputs]    # evaluation functions\n",
    "\n",
    "# Testing\n",
    "test = np.random.random(input_shape)[np.newaxis,...]\n",
    "layer_outs = [func([test]) for func in functors]\n",
    "#print(layer_outs)\n",
    "print(layer_outs[0][0][0][0][0])"
   ]
  },
  {
   "cell_type": "code",
   "execution_count": 10,
   "metadata": {},
   "outputs": [
    {
     "name": "stdout",
     "output_type": "stream",
     "text": [
      "313/313 [==============================] - 1s 4ms/step - loss: 0.3259 - accuracy: 0.9766\n"
     ]
    },
    {
     "data": {
      "text/plain": [
       "[0.3259474039077759, 0.9765999913215637]"
      ]
     },
     "execution_count": 10,
     "metadata": {},
     "output_type": "execute_result"
    }
   ],
   "source": [
    "model.evaluate(x_test, y_test)"
   ]
  },
  {
   "cell_type": "code",
   "execution_count": 11,
   "metadata": {},
   "outputs": [
    {
     "name": "stdout",
     "output_type": "stream",
     "text": [
      "5\n"
     ]
    },
    {
     "data": {
      "image/png": "[encoded data removed]",
      "text/plain": [
       "<Figure size 432x288 with 1 Axes>"
      ]
     },
     "metadata": {
      "needs_background": "light"
     },
     "output_type": "display_data"
    }
   ],
   "source": [
    "image_index = 7850\n",
    "plt.imshow(x_test[image_index].reshape(28, 28),cmap='Greys')\n",
    "pred = model.predict(x_test[image_index].reshape(1, 28, 28, 1))\n",
    "print(pred.argmax())"
   ]
  },
  {
   "cell_type": "code",
   "execution_count": 12,
   "metadata": {},
   "outputs": [
    {
     "name": "stdout",
     "output_type": "stream",
     "text": [
      "INFO:tensorflow:Assets written to: /tmp/tmp46z5dby8/assets\n"
     ]
    }
   ],
   "source": [
    "# Convert the model.\n",
    "converter = tf.lite.TFLiteConverter.from_keras_model(model)\n",
    "tflite_model = converter.convert()\n",
    "\n",
    "# Save the model.\n",
    "with open('modelno100.tflite', 'wb') as f:\n",
    "  f.write(tflite_model)"
   ]
  }
 ],
 "metadata": {
  "kernelspec": {
   "display_name": "Python 3",
   "language": "python",
   "name": "python3"
  },
  "language_info": {
   "codemirror_mode": {
    "name": "ipython",
    "version": 3
   },
   "file_extension": ".py",
   "mimetype": "text/x-python",
   "name": "python",
   "nbconvert_exporter": "python",
   "pygments_lexer": "ipython3",
   "version": "3.8.5"
  }
 },
 "nbformat": 4,
 "nbformat_minor": 4
}
