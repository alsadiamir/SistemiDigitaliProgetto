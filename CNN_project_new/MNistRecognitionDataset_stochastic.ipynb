{
 "cells": [
  {
   "cell_type": "code",
   "execution_count": 1,
   "metadata": {},
   "outputs": [],
   "source": [
    "# Set up simple CNN for MNIST hand-written digits image recognition\n",
    "#import the necessary libraries \n",
    "%matplotlib inline\n",
    "\n",
    "import tensorflow as tf\n",
    "import tensorflow.keras.backend as K\n",
    "from tensorflow.python.keras.layers import Layer\n",
    "import matplotlib.pyplot as plt\n",
    "import numpy as np\n",
    "from PIL import Image\n",
    "import math\n",
    "import cv2"
   ]
  },
  {
   "cell_type": "code",
   "execution_count": 2,
   "metadata": {},
   "outputs": [],
   "source": [
    "#FILTERS\n",
    "blur_filter = np.array([[0.0625,0.125,0.0625],[0.125,0.250,0.125],[0.0625,0.125,0.0625]], dtype=np.float32)\n",
    "outline_filter = np.array([[-1,-1,-1],[-1,8,-1],[-1,-1,-1]], dtype=np.float32)\n",
    "emboss_filter = np.array([[-2,-1,0],[-1,1,1],[0,1,2]], dtype=np.float32)\n",
    "\n",
    "#FILTER USED \n",
    "global used_filter\n",
    "used_filter = blur_filter\n",
    "\n",
    "#GLOBAL VARIABLES\n",
    "global DIM\n",
    "DIM = 8\n",
    "global FL\n",
    "FL = 4\n",
    "global IL\n",
    "IL = 8\n",
    "global e\n",
    "e = pow(2,-FL)\n",
    "global n_max\n",
    "n_max = pow(2,IL-1) - e\n",
    "global n_min\n",
    "n_min = -1*pow(2,IL-1)"
   ]
  },
  {
   "cell_type": "code",
   "execution_count": 3,
   "metadata": {},
   "outputs": [],
   "source": [
    "#ELABORATION\n",
    "def elaboration(P):\n",
    "    N = P // e\n",
    "    p = (P - N*e) / e\n",
    "    rand = np.random.normal(0,1,1)\n",
    "    if rand <= p:\n",
    "        return N*e\n",
    "    else:\n",
    "        return (N+1)*e"
   ]
  },
  {
   "cell_type": "code",
   "execution_count": 4,
   "metadata": {},
   "outputs": [],
   "source": [
    "#CONVERSION\n",
    "def conversion(Z):\n",
    "    if Z > n_max:\n",
    "        return n_max\n",
    "    elif Z < n_min:\n",
    "        return n_min\n",
    "    else:\n",
    "        return Z"
   ]
  },
  {
   "cell_type": "code",
   "execution_count": 5,
   "metadata": {},
   "outputs": [],
   "source": [
    "def convert_and_compute(P):\n",
    "    P = P/pow(2,FL)\n",
    "    P = conversion( elaboration(P) )\n",
    "    pix = int(P)\n",
    "    return pix"
   ]
  },
  {
   "cell_type": "code",
   "execution_count": 6,
   "metadata": {},
   "outputs": [],
   "source": [
    "#CONVERSION\n",
    "def conv(image):\n",
    "    output = image.astype(int)\n",
    "    width = len(image)\n",
    "    height = len(image[0])\n",
    "    \n",
    "    for i in range(0,width):\n",
    "    #iterating in a column\n",
    "        for j in range(0,height):\n",
    "            #iterating in greyscale\n",
    "            output[i][j] = convert_and_compute(image[i][j])\n",
    "   \n",
    "    return output"
   ]
  },
  {
   "cell_type": "code",
   "execution_count": 7,
   "metadata": {},
   "outputs": [],
   "source": [
    "#KERNEL preprocessing\n",
    "def kernel_preprocessing(kernel):\n",
    "    kernel = np.array([1.0,1.0,1.0,1.0,1.0,1.0,1.0,1.0,1.0]).reshape(3,3)\n",
    "    \n",
    "    for i in range(0,3):\n",
    "        for j in range(0,3):\n",
    "            kernel[i][j] = conversion( elaboration(kernel[i][j]) )\n",
    "    \n",
    "    return kernel"
   ]
  },
  {
   "cell_type": "code",
   "execution_count": 8,
   "metadata": {},
   "outputs": [],
   "source": [
    "#IMAGE preprocessing\n",
    "def image_preprocessing(image):\n",
    "    #shift of FL to left bits of the image pixels\n",
    "    npImage = np.array(image).astype(np.float32)\n",
    "    width = len(npImage)\n",
    "    height = len(npImage[0])\n",
    "\n",
    "    for i in range(0,width):\n",
    "    #iterating in a column\n",
    "        for j in range(0,height):\n",
    "            npImage[i][j] = npImage[i][j]*pow(2,FL)\n",
    "    \n",
    "    return npImage"
   ]
  },
  {
   "cell_type": "code",
   "execution_count": 9,
   "metadata": {},
   "outputs": [],
   "source": [
    "#IMAGE postprocessing\n",
    "def image_postprocessing(image_convoluted):\n",
    "    return conv(image_convoluted)"
   ]
  },
  {
   "cell_type": "code",
   "execution_count": 10,
   "metadata": {},
   "outputs": [],
   "source": [
    "class Conv2DStochastic(Layer):\n",
    "    def __init__(self, filters, kernel_size, kernel_initializer, **kwargs):\n",
    "        self.filters = filters\n",
    "        self.kernel_initializer=kernel_initializer\n",
    "        self.kernel_size = kernel_size\n",
    "        super(Conv2DStochastic, self).__init__(**kwargs)\n",
    "        \n",
    "\n",
    "    def call(self):\n",
    "        #find out how to get the INPUTS from the PIPELINE\n",
    "        kernel_preprocessed = kernel_preprocessing(K.eval(self.kernel_initializer))\n",
    "        image_preprocessed = image_preprocessing(K.eval(model.input))\n",
    "        image_processed = K.conv2d(image_preprocessed, kernel_preprocessed)\n",
    "        return K.constant(image_postprocessing(image_processed))\n"
   ]
  },
  {
   "cell_type": "code",
   "execution_count": 11,
   "metadata": {},
   "outputs": [],
   "source": [
    "mnist = tf.keras.datasets.mnist"
   ]
  },
  {
   "cell_type": "code",
   "execution_count": 12,
   "metadata": {},
   "outputs": [
    {
     "name": "stdout",
     "output_type": "stream",
     "text": [
      "7\n"
     ]
    },
    {
     "data": {
      "text/plain": [
       "<matplotlib.image.AxesImage at 0x7fd70fb8f610>"
      ]
     },
     "execution_count": 12,
     "metadata": {},
     "output_type": "execute_result"
    },
    {
     "data": {
      "image/png": "[encoded data removed]",
      "text/plain": [
       "<Figure size 432x288 with 1 Axes>"
      ]
     },
     "metadata": {
      "needs_background": "light"
     },
     "output_type": "display_data"
    }
   ],
   "source": [
    "(x_train, y_train),(x_test, y_test) = mnist.load_data()\n",
    "\n",
    "image_index = 258 # You may select anything up to 60,000\n",
    "print(y_train[image_index]) # The label \n",
    "plt.imshow(x_train[image_index], cmap='Greys')"
   ]
  },
  {
   "cell_type": "code",
   "execution_count": 13,
   "metadata": {},
   "outputs": [
    {
     "data": {
      "text/plain": [
       "(60000, 28, 28)"
      ]
     },
     "execution_count": 13,
     "metadata": {},
     "output_type": "execute_result"
    }
   ],
   "source": [
    "#check the shape of the imput elements\n",
    "\n",
    "x_train.shape"
   ]
  },
  {
   "cell_type": "code",
   "execution_count": 14,
   "metadata": {},
   "outputs": [
    {
     "name": "stdout",
     "output_type": "stream",
     "text": [
      "x_train shape: (60000, 28, 28, 1)\n",
      "Number of images in x_train 60000\n",
      "Number of images in x_test 10000\n"
     ]
    }
   ],
   "source": [
    "# Reshaping the array to 4-dims so that it can work with the Keras API\n",
    "x_train = x_train.reshape(x_train.shape[0], 28, 28, 1)\n",
    "x_test = x_test.reshape(x_test.shape[0], 28, 28, 1)\n",
    "input_shape = (28, 28, 1)\n",
    "# Making sure that the values are float so that we can get decimal points after division\n",
    "x_train = x_train.astype('float32')\n",
    "x_test = x_test.astype('float32')\n",
    "# Normalizing the RGB codes by dividing it to the max RGB value.\n",
    "x_train /= 255\n",
    "x_test /= 255\n",
    "print('x_train shape:', x_train.shape)\n",
    "print('Number of images in x_train', x_train.shape[0])\n",
    "print('Number of images in x_test', x_test.shape[0])"
   ]
  },
  {
   "cell_type": "code",
   "execution_count": 15,
   "metadata": {},
   "outputs": [],
   "source": [
    "# Importing the required Keras modules containing model and layers\n",
    "from tensorflow.keras.models import Sequential\n",
    "from tensorflow.keras.layers import Dense, Conv2D, Dropout, Flatten, MaxPooling2D"
   ]
  },
  {
   "cell_type": "code",
   "execution_count": 16,
   "metadata": {},
   "outputs": [],
   "source": [
    "# Creating a Sequential Model and adding the layers\n",
    "model = Sequential()\n",
    "model.add(Conv2D(28, kernel_size=(3, 3), input_shape=input_shape))\n",
    "model.add(MaxPooling2D(pool_size=(2, 2)))\n",
    "model.add(Flatten()) # Flattening the 2D arrays for fully connected layers\n",
    "model.add(Dense(128, activation=tf.nn.relu))\n",
    "model.add(Dropout(0.2))\n",
    "model.add(Dense(10,activation=tf.nn.softmax))"
   ]
  },
  {
   "cell_type": "code",
   "execution_count": 17,
   "metadata": {},
   "outputs": [],
   "source": [
    "model.compile(optimizer='adam', \n",
    "              loss='sparse_categorical_crossentropy', \n",
    "              metrics=['accuracy'])"
   ]
  },
  {
   "cell_type": "code",
   "execution_count": 18,
   "metadata": {},
   "outputs": [
    {
     "name": "stdout",
     "output_type": "stream",
     "text": [
      "1875/1875 [==============================] - 14s 8ms/step - loss: 0.3810 - accuracy: 0.8877\n"
     ]
    },
    {
     "data": {
      "text/plain": [
       "<tensorflow.python.keras.callbacks.History at 0x7fd71009fa30>"
      ]
     },
     "execution_count": 18,
     "metadata": {},
     "output_type": "execute_result"
    }
   ],
   "source": [
    "model.fit(x=x_train,y=y_train, epochs=1)"
   ]
  },
  {
   "cell_type": "code",
   "execution_count": 19,
   "metadata": {},
   "outputs": [
    {
     "name": "stdout",
     "output_type": "stream",
     "text": [
      "1875/1875 [==============================] - 14s 7ms/step - loss: 0.0882 - accuracy: 0.9726\n",
      "1875/1875 [==============================] - 13s 7ms/step - loss: 0.0647 - accuracy: 0.9798\n",
      "1875/1875 [==============================] - 13s 7ms/step - loss: 0.0480 - accuracy: 0.9841\n",
      "1875/1875 [==============================] - 15s 8ms/step - loss: 0.0384 - accuracy: 0.9876\n",
      "1875/1875 [==============================] - 15s 8ms/step - loss: 0.0325 - accuracy: 0.9891\n",
      "1875/1875 [==============================] - 13s 7ms/step - loss: 0.0279 - accuracy: 0.9907\n",
      "1875/1875 [==============================] - 14s 7ms/step - loss: 0.0239 - accuracy: 0.9921\n",
      "1875/1875 [==============================] - 13s 7ms/step - loss: 0.0261 - accuracy: 0.9918\n",
      "1875/1875 [==============================] - 14s 7ms/step - loss: 0.0201 - accuracy: 0.9934\n",
      "1875/1875 [==============================] - 16s 9ms/step - loss: 0.0217 - accuracy: 0.9928\n"
     ]
    }
   ],
   "source": [
    "#LAYER1\n",
    "for i in range(0, 10):    \n",
    "    weights = model.layers[0].get_weights()[0]\n",
    "    shape = np.shape(model.layers[0].get_weights()[0])\n",
    "    weights = weights.reshape(model.layers[0].get_weights()[0].size)\n",
    "    new_weights = np.zeros(shape=np.shape(weights))\n",
    "    for i in range(0,weights.size):\n",
    "        new_weights[i]= conversion( elaboration(weights[i]) )\n",
    "    new_weights = new_weights.reshape(shape)\n",
    "    \n",
    "    biases = model.layers[0].get_weights()[1]\n",
    "    shapeb = np.shape(model.layers[0].get_weights()[1])\n",
    "    biases = biases.reshape(model.layers[0].get_weights()[1].size)\n",
    "    new_biases = np.zeros(shape=np.shape(biases))\n",
    "    for i in range(0,biases.size):\n",
    "        new_biases[i]= conversion( elaboration(biases[i]) )\n",
    "    new_biases = new_biases.reshape(shapeb)    \n",
    "    \n",
    "    w_b = []\n",
    "    w_b.append(new_weights)\n",
    "    w_b.append(new_biases)\n",
    "    \n",
    "    model.layers[0].set_weights(w_b)  \n",
    "\n",
    "    #print(model.layers[0].get_weights()[0])\n",
    "    model.fit(x=x_train,y=y_train, epochs=1)"
   ]
  },
  {
   "cell_type": "code",
   "execution_count": 20,
   "metadata": {},
   "outputs": [
    {
     "name": "stdout",
     "output_type": "stream",
     "text": [
      "313/313 [==============================] - 1s 2ms/step - loss: 0.0674 - accuracy: 0.9844\n"
     ]
    },
    {
     "data": {
      "text/plain": [
       "[0.06735769659280777, 0.9843999743461609]"
      ]
     },
     "execution_count": 20,
     "metadata": {},
     "output_type": "execute_result"
    }
   ],
   "source": [
    "model.evaluate(x_test, y_test)"
   ]
  },
  {
   "cell_type": "code",
   "execution_count": 21,
   "metadata": {},
   "outputs": [
    {
     "name": "stdout",
     "output_type": "stream",
     "text": [
      "8\n"
     ]
    },
    {
     "data": {
      "image/png": "[encoded data removed]",
      "text/plain": [
       "<Figure size 432x288 with 1 Axes>"
      ]
     },
     "metadata": {
      "needs_background": "light"
     },
     "output_type": "display_data"
    }
   ],
   "source": [
    "image_index = 5960\n",
    "plt.imshow(x_test[image_index].reshape(28, 28),cmap='Greys')\n",
    "pred = model.predict(x_test[image_index].reshape(1, 28, 28, 1))\n",
    "print(pred.argmax())"
   ]
  },
  {
   "cell_type": "code",
   "execution_count": 22,
   "metadata": {},
   "outputs": [
    {
     "name": "stdout",
     "output_type": "stream",
     "text": [
      "INFO:tensorflow:Assets written to: /tmp/tmpx6gsbp3_/assets\n"
     ]
    }
   ],
   "source": [
    "# Convert the model.\n",
    "converter = tf.lite.TFLiteConverter.from_keras_model(model)\n",
    "tflite_model = converter.convert()\n",
    "\n",
    "# Save the model.\n",
    "with open('model.tflite', 'wb') as f:\n",
    "  f.write(tflite_model)"
   ]
  }
 ],
 "metadata": {
  "kernelspec": {
   "display_name": "Python 3",
   "language": "python",
   "name": "python3"
  },
  "language_info": {
   "codemirror_mode": {
    "name": "ipython",
    "version": 3
   },
   "file_extension": ".py",
   "mimetype": "text/x-python",
   "name": "python",
   "nbconvert_exporter": "python",
   "pygments_lexer": "ipython3",
   "version": "3.8.5"
  }
 },
 "nbformat": 4,
 "nbformat_minor": 4
}
